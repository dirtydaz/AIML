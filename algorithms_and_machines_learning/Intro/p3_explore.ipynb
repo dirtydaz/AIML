{
 "cells": [
  {
   "cell_type": "code",
   "execution_count": 76,
   "id": "f0510736",
   "metadata": {},
   "outputs": [],
   "source": [
    "# 1 Check if Symmetric\n",
    "\n",
    "def check_if_symmetric(string):\n",
    "    for i,s in enumerate(string):\n",
    "        if string[i] != string[-i-1]:\n",
    "            return False\n",
    "    return True  "
   ]
  },
  {
   "cell_type": "code",
   "execution_count": 15,
   "id": "93293c92",
   "metadata": {},
   "outputs": [
    {
     "data": {
      "text/plain": [
       "True"
      ]
     },
     "execution_count": 15,
     "metadata": {},
     "output_type": "execute_result"
    }
   ],
   "source": [
    "check_if_symmetric(\"abba\")"
   ]
  },
  {
   "cell_type": "code",
   "execution_count": 12,
   "id": "f3de7e53",
   "metadata": {},
   "outputs": [
    {
     "data": {
      "text/plain": [
       "'d'"
      ]
     },
     "execution_count": 12,
     "metadata": {},
     "output_type": "execute_result"
    }
   ],
   "source": [
    "word = \"racecad\"\n",
    "word[-1]"
   ]
  },
  {
   "cell_type": "code",
   "execution_count": 1,
   "id": "48bafae1",
   "metadata": {},
   "outputs": [
    {
     "data": {
      "text/plain": [
       "True"
      ]
     },
     "execution_count": 1,
     "metadata": {},
     "output_type": "execute_result"
    }
   ],
   "source": [
    "def csymm(s: str) -> bool:\n",
    "    return s == s[::-1]\n",
    "csymm(\"racecar\")"
   ]
  },
  {
   "cell_type": "code",
   "execution_count": 6,
   "id": "0ec31fde",
   "metadata": {},
   "outputs": [],
   "source": [
    "\n",
    "# 2 Concert to numbers\n",
    "def convert_to_numbers(string):\n",
    "    letters = [' ', 'a', 'b', 'c', 'd', 'e', 'f', 'g', 'h', 'i', 'j', 'k', 'l', 'm', 'n', \n",
    "               'o', 'p', 'q', 'r', 's', 't', 'u', 'v', 'w', 'x', 'y', 'z']\n",
    "    scores = list(range(28))\n",
    "    numbers = []\n",
    "    for letter in string:\n",
    "        numbers.append(scores[letters.index(letter)])\n",
    "    return numbers"
   ]
  },
  {
   "cell_type": "code",
   "execution_count": 9,
   "id": "90b47011",
   "metadata": {},
   "outputs": [
    {
     "data": {
      "text/plain": [
       "[1, 1, 18, 15, 14]"
      ]
     },
     "execution_count": 9,
     "metadata": {},
     "output_type": "execute_result"
    }
   ],
   "source": [
    "convert_to_numbers(\"aaron\")"
   ]
  },
  {
   "cell_type": "code",
   "execution_count": 22,
   "id": "0bdcbd48",
   "metadata": {},
   "outputs": [],
   "source": [
    "# 3 convert to letters\n",
    "def convert_to_letters(numbers):\n",
    "    letters = [' ', 'a', 'b', 'c', 'd', 'e', 'f', 'g', 'h', 'i', 'j', 'k', 'l', 'm', 'n', \n",
    "               'o', 'p', 'q', 'r', 's', 't', 'u', 'v', 'w', 'x', 'y', 'z']\n",
    "    nums = list(range(28))\n",
    "    result = ''\n",
    "    for num in numbers:\n",
    "        result += letters[nums.index(num)]\n",
    "    return result"
   ]
  },
  {
   "cell_type": "code",
   "execution_count": 23,
   "id": "dc8ea5cb",
   "metadata": {},
   "outputs": [
    {
     "data": {
      "text/plain": [
       "'a cat'"
      ]
     },
     "execution_count": 23,
     "metadata": {},
     "output_type": "execute_result"
    }
   ],
   "source": [
    "convert_to_letters([1,0,3,1,20])"
   ]
  },
  {
   "cell_type": "code",
   "execution_count": 32,
   "id": "7cc39b76",
   "metadata": {},
   "outputs": [],
   "source": [
    "# 4 Return array that consists of elements in both array1 and array2\n",
    "def get_intersection(array1, array2):\n",
    "    output = []\n",
    "    for element in array1:\n",
    "        if element in array2 and element not in output:\n",
    "            output.append(element)\n",
    "    return output"
   ]
  },
  {
   "cell_type": "code",
   "execution_count": 33,
   "id": "07642119",
   "metadata": {},
   "outputs": [
    {
     "data": {
      "text/plain": [
       "[1, 7]"
      ]
     },
     "execution_count": 33,
     "metadata": {},
     "output_type": "execute_result"
    }
   ],
   "source": [
    "get_intersection([1,1,3,5,7],[1,1,4,6,9,7])"
   ]
  },
  {
   "cell_type": "code",
   "execution_count": 36,
   "id": "6d7cf4fe",
   "metadata": {},
   "outputs": [],
   "source": [
    "# 5 return array consisting of elements in either array\n",
    "def get_union(array1, array2):\n",
    "    output = []\n",
    "    for e in array1:\n",
    "        if e not in output:\n",
    "            output.append(e)\n",
    "    for e in array2:\n",
    "        if e not in output:\n",
    "            output.append(e)\n",
    "    return output"
   ]
  },
  {
   "cell_type": "code",
   "execution_count": 37,
   "id": "c85435ab",
   "metadata": {},
   "outputs": [
    {
     "data": {
      "text/plain": [
       "[1, 2, 3, 4, 5, 6]"
      ]
     },
     "execution_count": 37,
     "metadata": {},
     "output_type": "execute_result"
    }
   ],
   "source": [
    "get_union([1,1,1,2,3,4],[1,1,2,5,6])"
   ]
  },
  {
   "cell_type": "code",
   "execution_count": 49,
   "id": "fec03098",
   "metadata": {},
   "outputs": [],
   "source": [
    "# 6 count number of each character in a string into a dictionary\n",
    "def count_characters(string):\n",
    "    output = {}\n",
    "    string = str.lower(string)\n",
    "    for c in string:\n",
    "        if c not in output.keys():\n",
    "            output[c] = 1\n",
    "        else:\n",
    "            output[c] += 1\n",
    "    return output\n"
   ]
  },
  {
   "cell_type": "code",
   "execution_count": 50,
   "id": "431fd91b",
   "metadata": {},
   "outputs": [
    {
     "data": {
      "text/plain": [
       "{'d': 1, 'i': 1, 'n': 1, 'g': 1, 'a': 1, '!': 2, ' ': 1}"
      ]
     },
     "execution_count": 50,
     "metadata": {},
     "output_type": "execute_result"
    }
   ],
   "source": [
    "count_characters(\"dinga!! \")"
   ]
  },
  {
   "cell_type": "code",
   "execution_count": 51,
   "id": "02c05233",
   "metadata": {},
   "outputs": [
    {
     "data": {
      "text/plain": [
       "{'a': 2, ' ': 1, 'c': 1, 't': 1, '!': 2}"
      ]
     },
     "execution_count": 51,
     "metadata": {},
     "output_type": "execute_result"
    }
   ],
   "source": [
    "count_characters('A cat!!')"
   ]
  },
  {
   "cell_type": "code",
   "execution_count": 72,
   "id": "4c5f1c75",
   "metadata": {},
   "outputs": [],
   "source": [
    "# 7 Check if prime\n",
    "def is_prime(N):\n",
    "    max = int(N/2)\n",
    "    counter = 0\n",
    "    for n in range(2,max+1):\n",
    "        if N % n == 0:\n",
    "            counter += 1\n",
    "    return counter == 0\n",
    "    \n",
    "\n"
   ]
  },
  {
   "cell_type": "code",
   "execution_count": 74,
   "id": "744f66bb",
   "metadata": {},
   "outputs": [
    {
     "data": {
      "text/plain": [
       "True"
      ]
     },
     "execution_count": 74,
     "metadata": {},
     "output_type": "execute_result"
    }
   ],
   "source": [
    "is_prime(79)"
   ]
  },
  {
   "cell_type": "code",
   "execution_count": 63,
   "id": "1da7ad15",
   "metadata": {},
   "outputs": [
    {
     "data": {
      "text/plain": [
       "[2]"
      ]
     },
     "execution_count": 63,
     "metadata": {},
     "output_type": "execute_result"
    }
   ],
   "source": [
    "list(range(2,3))\n"
   ]
  },
  {
   "cell_type": "code",
   "execution_count": 77,
   "id": "b1d6981d",
   "metadata": {},
   "outputs": [
    {
     "data": {
      "text/plain": [
       "True"
      ]
     },
     "execution_count": 77,
     "metadata": {},
     "output_type": "execute_result"
    }
   ],
   "source": [
    "check_if_symmetric(\"\")"
   ]
  },
  {
   "cell_type": "code",
   "execution_count": null,
   "id": "ccf7d83b",
   "metadata": {},
   "outputs": [],
   "source": []
  }
 ],
 "metadata": {
  "kernelspec": {
   "display_name": ".venv",
   "language": "python",
   "name": "python3"
  },
  "language_info": {
   "codemirror_mode": {
    "name": "ipython",
    "version": 3
   },
   "file_extension": ".py",
   "mimetype": "text/x-python",
   "name": "python",
   "nbconvert_exporter": "python",
   "pygments_lexer": "ipython3",
   "version": "3.13.3"
  }
 },
 "nbformat": 4,
 "nbformat_minor": 5
}
