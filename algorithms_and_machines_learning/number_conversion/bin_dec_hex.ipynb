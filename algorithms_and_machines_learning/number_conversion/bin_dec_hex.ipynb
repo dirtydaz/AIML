{
 "cells": [
  {
   "cell_type": "code",
   "execution_count": 1,
   "id": "5d7e76d5",
   "metadata": {},
   "outputs": [
    {
     "data": {
      "text/plain": [
       "3"
      ]
     },
     "execution_count": 1,
     "metadata": {},
     "output_type": "execute_result"
    }
   ],
   "source": [
    "len(\"000\")"
   ]
  },
  {
   "cell_type": "code",
   "execution_count": 4,
   "id": "121bea3c",
   "metadata": {},
   "outputs": [
    {
     "data": {
      "text/plain": [
       "'1'"
      ]
     },
     "execution_count": 4,
     "metadata": {},
     "output_type": "execute_result"
    }
   ],
   "source": [
    "string = \"100\"\n",
    "string[-0]"
   ]
  },
  {
   "cell_type": "code",
   "execution_count": 15,
   "id": "fe842cdf",
   "metadata": {},
   "outputs": [
    {
     "name": "stdout",
     "output_type": "stream",
     "text": [
      "26\n"
     ]
    }
   ],
   "source": [
    "string = \"11010\"\n",
    "counter = 0\n",
    "for i in range(len(string)):\n",
    "    counter += int(string[-i-1])*2**(i)\n",
    "print(counter)"
   ]
  },
  {
   "cell_type": "code",
   "execution_count": 13,
   "id": "495a3b1f",
   "metadata": {},
   "outputs": [
    {
     "data": {
      "text/plain": [
       "'1'"
      ]
     },
     "execution_count": 13,
     "metadata": {},
     "output_type": "execute_result"
    }
   ],
   "source": [
    "string[-3]"
   ]
  },
  {
   "cell_type": "code",
   "execution_count": null,
   "id": "d6521777",
   "metadata": {},
   "outputs": [
    {
     "name": "stdout",
     "output_type": "stream",
     "text": [
      "32\n"
     ]
    }
   ],
   "source": [
    "## Hexadecimal to Decimal -- Base 16\n",
    "string = '20'\n",
    "counter = 0 \n",
    "size = len(string)\n",
    "vals = {'A': 10, 'B': 11, 'C': 12, 'D': 13, 'E': 14, 'F': 15}\n",
    "# Need to check for value being a number or a letter\n",
    "for i in range(size):\n",
    "    if string[i].isdigit():\n",
    "        counter += int(string[i])*16**(size-i-1)\n",
    "    elif string[i].isalpha():\n",
    "        counter += vals[string[i]]*16**(size-i-1)\n",
    "print(counter)"
   ]
  },
  {
   "cell_type": "code",
   "execution_count": null,
   "id": "20b1db33",
   "metadata": {},
   "outputs": [
    {
     "ename": "SyntaxError",
     "evalue": "'return' outside function (3332662765.py, line 7)",
     "output_type": "error",
     "traceback": [
      "  \u001b[36mCell\u001b[39m\u001b[36m \u001b[39m\u001b[32mIn[50]\u001b[39m\u001b[32m, line 7\u001b[39m\n\u001b[31m    \u001b[39m\u001b[31mreturn print('0')\u001b[39m\n    ^\n\u001b[31mSyntaxError\u001b[39m\u001b[31m:\u001b[39m 'return' outside function\n"
     ]
    }
   ],
   "source": [
    "## Decimal to Binary\n",
    "number = 0\n",
    "binary = ''\n",
    "counter = number\n",
    "ones = []\n",
    "if number == 0:\n",
    "    print('0')\n",
    "while counter > 0:\n",
    "    i = 0\n",
    "    # p = 0\n",
    "\n",
    "    while 2**i <= counter:\n",
    "        i += 1\n",
    "        p += 1\n",
    "    counter -= 2**(i-1)\n",
    "    ones.append(i-1)\n",
    "\n",
    "for i in range(max(ones),-1,-1):\n",
    "    print(i)\n",
    "    if i in ones:\n",
    "        binary += '1'\n",
    "    else:\n",
    "        binary += '0'\n",
    "print(binary)\n",
    "\n",
    "    \n",
    "\n",
    "\n",
    "# Need to get largest power of 2 then minus \n",
    "# that number from the original number then repeat\n",
    "# We found max power \n",
    "\n"
   ]
  },
  {
   "cell_type": "code",
   "execution_count": null,
   "id": "80b6a66a",
   "metadata": {},
   "outputs": [
    {
     "data": {
      "text/plain": [
       "200"
      ]
     },
     "execution_count": 22,
     "metadata": {},
     "output_type": "execute_result"
    }
   ],
   "source": [
    "n = 40320\n",
    "int(n**0.5)"
   ]
  },
  {
   "cell_type": "code",
   "execution_count": null,
   "id": "f8b6105d",
   "metadata": {},
   "outputs": [
    {
     "data": {
      "text/plain": [
       "1606938044258990275541962092341162602522202993782792835301376"
      ]
     },
     "execution_count": 23,
     "metadata": {},
     "output_type": "execute_result"
    }
   ],
   "source": [
    "\n"
   ]
  },
  {
   "cell_type": "code",
   "execution_count": null,
   "id": "51e19c87",
   "metadata": {},
   "outputs": [],
   "source": []
  }
 ],
 "metadata": {
  "kernelspec": {
   "display_name": ".venv",
   "language": "python",
   "name": "python3"
  },
  "language_info": {
   "codemirror_mode": {
    "name": "ipython",
    "version": 3
   },
   "file_extension": ".py",
   "mimetype": "text/x-python",
   "name": "python",
   "nbconvert_exporter": "python",
   "pygments_lexer": "ipython3",
   "version": "3.13.3"
  }
 },
 "nbformat": 4,
 "nbformat_minor": 5
}
