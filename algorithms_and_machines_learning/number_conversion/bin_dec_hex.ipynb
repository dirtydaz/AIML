{
 "cells": [
  {
   "cell_type": "code",
   "execution_count": 1,
   "id": "5d7e76d5",
   "metadata": {},
   "outputs": [
    {
     "data": {
      "text/plain": [
       "3"
      ]
     },
     "execution_count": 1,
     "metadata": {},
     "output_type": "execute_result"
    }
   ],
   "source": [
    "len(\"000\")"
   ]
  },
  {
   "cell_type": "code",
   "execution_count": 4,
   "id": "121bea3c",
   "metadata": {},
   "outputs": [
    {
     "data": {
      "text/plain": [
       "'1'"
      ]
     },
     "execution_count": 4,
     "metadata": {},
     "output_type": "execute_result"
    }
   ],
   "source": [
    "string = \"100\"\n",
    "string[-0]"
   ]
  },
  {
   "cell_type": "code",
   "execution_count": 15,
   "id": "fe842cdf",
   "metadata": {},
   "outputs": [
    {
     "name": "stdout",
     "output_type": "stream",
     "text": [
      "26\n"
     ]
    }
   ],
   "source": [
    "string = \"11010\"\n",
    "counter = 0\n",
    "for i in range(len(string)):\n",
    "    counter += int(string[-i-1])*2**(i)\n",
    "print(counter)"
   ]
  },
  {
   "cell_type": "code",
   "execution_count": 13,
   "id": "495a3b1f",
   "metadata": {},
   "outputs": [
    {
     "data": {
      "text/plain": [
       "'1'"
      ]
     },
     "execution_count": 13,
     "metadata": {},
     "output_type": "execute_result"
    }
   ],
   "source": [
    "string[-3]"
   ]
  },
  {
   "cell_type": "code",
   "execution_count": null,
   "id": "d6521777",
   "metadata": {},
   "outputs": [
    {
     "name": "stdout",
     "output_type": "stream",
     "text": [
      "32\n"
     ]
    }
   ],
   "source": [
    "## Hexadecimal to Decimal -- Base 16\n",
    "string = '20'\n",
    "counter = 0 \n",
    "size = len(string)\n",
    "vals = {'A': 10, 'B': 11, 'C': 12, 'D': 13, 'E': 14, 'F': 15}\n",
    "# Need to check for value being a number or a letter\n",
    "for i in range(size):\n",
    "    if string[i].isdigit():\n",
    "        counter += int(string[i])*16**(size-i-1)\n",
    "    elif string[i].isalpha():\n",
    "        counter += vals[string[i]]*16**(size-i-1)\n",
    "print(counter)"
   ]
  },
  {
   "cell_type": "code",
   "execution_count": 60,
   "id": "20b1db33",
   "metadata": {},
   "outputs": [],
   "source": [
    "## Decimal to Binary\n",
    "def decimal_to_binary(string):\n",
    "    if string == '0':\n",
    "        return print('0')\n",
    "    \n",
    "    binary = ''\n",
    "    counter = int(string)\n",
    "    ones = []\n",
    "    while counter > 0:\n",
    "        i = 0\n",
    "        while 2**i <= counter:\n",
    "            i += 1\n",
    "        counter -= 2**(i-1)\n",
    "        ones.append(i-1)\n",
    "\n",
    "    for i in range(max(ones),-1,-1):\n",
    "        if i in ones:\n",
    "            binary += '1'\n",
    "        else:\n",
    "            binary += '0'\n",
    "    print(binary)\n",
    "\n",
    "    \n",
    "\n",
    "\n",
    "# Need to get largest power of 2 then minus \n",
    "# that number from the original number then repeat\n",
    "# We found max power \n",
    "\n"
   ]
  },
  {
   "cell_type": "code",
   "execution_count": 65,
   "id": "80b6a66a",
   "metadata": {},
   "outputs": [
    {
     "name": "stdout",
     "output_type": "stream",
     "text": [
      "1\n"
     ]
    }
   ],
   "source": [
    "decimal_to_binary('1')"
   ]
  },
  {
   "cell_type": "markdown",
   "id": "f8b6105d",
   "metadata": {},
   "source": [
    "## 4. Decimal to Hexadecimal\n",
    "1. Find largest power of 16 that is less than number\n",
    "2. Find the largest multipl of that power of 16\n",
    "3. Remove number from the total\n",
    "4. Store the element (hexi) and the place (power)\n",
    "5. Loop until total = 0\n",
    "6. construct the hexivalue\n"
   ]
  },
  {
   "cell_type": "code",
   "execution_count": 92,
   "id": "51e19c87",
   "metadata": {},
   "outputs": [],
   "source": [
    "def decimal_to_hexadecimal(string):\n",
    "    if string == '0':\n",
    "        return print('0')\n",
    "    vals = {10: 'A', 11: 'B', 12: 'C', 13: 'D', 14: 'E', 15: 'F'}\n",
    "    hex = ''\n",
    "    counter = int(string)\n",
    "    places = {}\n",
    "\n",
    "    while counter > 0:\n",
    "        i = 0\n",
    "        n = 1\n",
    "        while 16**i <= counter:\n",
    "            i += 1\n",
    "        while n*16**(i-1) <= counter:\n",
    "            n +=1\n",
    "        counter -= (n-1)*16**(i-1)\n",
    "        places[i-1] = n-1\n",
    "\n",
    "    for i in range(max(places),-1,-1):\n",
    "        if i in places.keys() and places[i] < 10:\n",
    "            hex += str(places[i])\n",
    "        elif i in places.keys() and places[i] >= 10:\n",
    "            hex += str(vals[places[i]])\n",
    "        else:\n",
    "            hex += '0'\n",
    "    \n",
    "    return hex\n",
    "        \n",
    "                   \n",
    "                    "
   ]
  },
  {
   "cell_type": "code",
   "execution_count": null,
   "id": "ad8b47c4",
   "metadata": {},
   "outputs": [
    {
     "name": "stdout",
     "output_type": "stream",
     "text": [
      "0\n"
     ]
    }
   ],
   "source": [
    "decimal_to_hexadecimal('0')"
   ]
  },
  {
   "cell_type": "markdown",
   "id": "6de74931",
   "metadata": {},
   "source": [
    "## Binary to Hexidecimal\n",
    "1. Use already created functions"
   ]
  },
  {
   "cell_type": "code",
   "execution_count": 91,
   "id": "b45af69f",
   "metadata": {},
   "outputs": [],
   "source": [
    "def binary_to_decimal(string):\n",
    "    counter = 0\n",
    "    for i in range(len(string)):\n",
    "        counter += int(string[-i-1])*2**(i)\n",
    "    return counter"
   ]
  },
  {
   "cell_type": "code",
   "execution_count": 85,
   "id": "5fb932b1",
   "metadata": {},
   "outputs": [],
   "source": [
    "def binary_to_hexadecimal(string):\n",
    "    decimal = binary_to_decimal(string)\n",
    "    hexadecimal = decimal_to_hexadecimal(decimal)\n",
    "    return hexadecimal"
   ]
  },
  {
   "cell_type": "code",
   "execution_count": 94,
   "id": "0c022d0f",
   "metadata": {},
   "outputs": [
    {
     "data": {
      "text/plain": [
       "'1153'"
      ]
     },
     "execution_count": 94,
     "metadata": {},
     "output_type": "execute_result"
    }
   ],
   "source": [
    "binary_to_hexadecimal('1000101010011')"
   ]
  },
  {
   "cell_type": "code",
   "execution_count": 96,
   "id": "78ae15e9",
   "metadata": {},
   "outputs": [],
   "source": [
    "def hexadecimal_to_decimal(string):\n",
    "    counter = 0 \n",
    "    size = len(string)\n",
    "    vals = {'A': 10, 'B': 11, 'C': 12, 'D': 13, 'E': 14, 'F': 15}\n",
    "    # Need to check for value being a number or a letter\n",
    "    for i in range(size):\n",
    "        if string[i].isdigit():\n",
    "            counter += int(string[i])*16**(size-i-1)\n",
    "        elif string[i].isalpha():\n",
    "            counter += vals[string[i]]*16**(size-i-1)\n",
    "        else: \n",
    "            print('Not hexadecimal')\n",
    "            return \n",
    "    return counter"
   ]
  },
  {
   "cell_type": "code",
   "execution_count": 98,
   "id": "616a36b4",
   "metadata": {},
   "outputs": [],
   "source": [
    "def hexadecimal_to_binary(string):\n",
    "    decimal = hexadecimal_to_decimal(string)\n",
    "    binary = decimal_to_binary(decimal)\n",
    "    return binary"
   ]
  },
  {
   "cell_type": "code",
   "execution_count": 100,
   "id": "40f8698f",
   "metadata": {},
   "outputs": [
    {
     "name": "stdout",
     "output_type": "stream",
     "text": [
      "11110110\n"
     ]
    }
   ],
   "source": [
    "hexadecimal_to_binary('F6')"
   ]
  },
  {
   "cell_type": "code",
   "execution_count": null,
   "id": "c4ae39d7",
   "metadata": {},
   "outputs": [],
   "source": []
  }
 ],
 "metadata": {
  "kernelspec": {
   "display_name": ".venv",
   "language": "python",
   "name": "python3"
  },
  "language_info": {
   "codemirror_mode": {
    "name": "ipython",
    "version": 3
   },
   "file_extension": ".py",
   "mimetype": "text/x-python",
   "name": "python",
   "nbconvert_exporter": "python",
   "pygments_lexer": "ipython3",
   "version": "3.13.3"
  }
 },
 "nbformat": 4,
 "nbformat_minor": 5
}
