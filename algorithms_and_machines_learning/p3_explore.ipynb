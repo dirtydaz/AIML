{
 "cells": [
  {
   "cell_type": "code",
   "execution_count": 13,
   "id": "f0510736",
   "metadata": {},
   "outputs": [],
   "source": [
    "# 1 Check if Symmetric\n",
    "\n",
    "def check_if_symmetric(string):\n",
    "    for i,s in enumerate(string):\n",
    "        if string[i] != string[-i-1]:\n",
    "            return False\n",
    "    return True  "
   ]
  },
  {
   "cell_type": "code",
   "execution_count": 15,
   "id": "93293c92",
   "metadata": {},
   "outputs": [
    {
     "data": {
      "text/plain": [
       "True"
      ]
     },
     "execution_count": 15,
     "metadata": {},
     "output_type": "execute_result"
    }
   ],
   "source": [
    "check_if_symmetric(\"abba\")"
   ]
  },
  {
   "cell_type": "code",
   "execution_count": 12,
   "id": "f3de7e53",
   "metadata": {},
   "outputs": [
    {
     "data": {
      "text/plain": [
       "'d'"
      ]
     },
     "execution_count": 12,
     "metadata": {},
     "output_type": "execute_result"
    }
   ],
   "source": [
    "word = \"racecad\"\n",
    "word[-1]"
   ]
  },
  {
   "cell_type": "code",
   "execution_count": null,
   "id": "48bafae1",
   "metadata": {},
   "outputs": [],
   "source": []
  }
 ],
 "metadata": {
  "kernelspec": {
   "display_name": ".venv",
   "language": "python",
   "name": "python3"
  },
  "language_info": {
   "codemirror_mode": {
    "name": "ipython",
    "version": 3
   },
   "file_extension": ".py",
   "mimetype": "text/x-python",
   "name": "python",
   "nbconvert_exporter": "python",
   "pygments_lexer": "ipython3",
   "version": "3.13.3"
  }
 },
 "nbformat": 4,
 "nbformat_minor": 5
}
